{
 "cells": [
  {
   "cell_type": "code",
   "execution_count": null,
   "metadata": {},
   "outputs": [],
   "source": [
    "import sys\n",
    "sys.path.append('../')\n",
    "\n",
    "import numpy as np\n",
    "import torch\n",
    "\n",
    "%matplotlib inline\n",
    "import matplotlib.pyplot as plt\n",
    "\n",
    "from modules.modules import VectorQuantizedVAE\n",
    "from datasets import datasets\n",
    "\n",
    "def norm_img(x):\n",
    "    h = x.copy()\n",
    "    h -= h.min()\n",
    "    h /= h.max()\n",
    "    return h\n",
    "\n",
    "model = VectorQuantizedVAE(3, 256, 256)\n",
    "model.load_state_dict(torch.load('../models/kylberg_k256//best.pt'))\n",
    "\n",
    "model.cpu()\n",
    "model.eval()\n",
    "\n",
    "dataset = datasets.get_dataset('kylberg', '~/dataset/kylberg')"
   ]
  }
 ],
 "metadata": {
  "kernelspec": {
   "display_name": "pytorch",
   "language": "python",
   "name": "pytorch"
  },
  "language_info": {
   "codemirror_mode": {
    "name": "ipython",
    "version": 3
   },
   "file_extension": ".py",
   "mimetype": "text/x-python",
   "name": "python",
   "nbconvert_exporter": "python",
   "pygments_lexer": "ipython3",
   "version": "3.6.3"
  }
 },
 "nbformat": 4,
 "nbformat_minor": 2
}
